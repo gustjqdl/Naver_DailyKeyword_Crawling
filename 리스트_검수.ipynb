{
 "cells": [
  {
   "cell_type": "code",
   "execution_count": 1,
   "metadata": {},
   "outputs": [],
   "source": [
    "import pandas as pd \n",
    "import collections\n",
    "from datetime import timedelta\n",
    "from dateutil.relativedelta import relativedelta\n",
    "import numpy as np\n",
    "\n",
    "import math\n",
    "from datetime import datetime \n",
    "from datetime import datetime, timedelta\n",
    "\n",
    "\n",
    "from powernad.API.Campaign import *\n",
    "from powernad.API.RelKwdStat import *\n",
    "\n",
    "import time\n",
    "\n",
    "from time import sleep\n",
    "from urllib.error import HTTPError\n",
    "\n",
    "import urllib.request\n",
    "from datetime import datetime, timedelta\n",
    "import json\n",
    "\n",
    "from tqdm.notebook import tqdm"
   ]
  },
  {
   "cell_type": "code",
   "execution_count": 3,
   "metadata": {},
   "outputs": [],
   "source": [
    "test = pd.read_csv('합침키워드.csv')"
   ]
  },
  {
   "cell_type": "code",
   "execution_count": 4,
   "metadata": {},
   "outputs": [],
   "source": [
    "test.drop(['Unnamed: 0'], axis=1, inplace=True)"
   ]
  },
  {
   "cell_type": "code",
   "execution_count": 5,
   "metadata": {
    "scrolled": true
   },
   "outputs": [
    {
     "data": {
      "text/html": [
       "<div>\n",
       "<style scoped>\n",
       "    .dataframe tbody tr th:only-of-type {\n",
       "        vertical-align: middle;\n",
       "    }\n",
       "\n",
       "    .dataframe tbody tr th {\n",
       "        vertical-align: top;\n",
       "    }\n",
       "\n",
       "    .dataframe thead th {\n",
       "        text-align: right;\n",
       "    }\n",
       "</style>\n",
       "<table border=\"1\" class=\"dataframe\">\n",
       "  <thead>\n",
       "    <tr style=\"text-align: right;\">\n",
       "      <th></th>\n",
       "      <th>날짜</th>\n",
       "      <th>수집날짜</th>\n",
       "      <th>쿼리수</th>\n",
       "      <th>키워드</th>\n",
       "    </tr>\n",
       "  </thead>\n",
       "  <tbody>\n",
       "    <tr>\n",
       "      <th>0</th>\n",
       "      <td>2021-03-20</td>\n",
       "      <td>2021-04-20</td>\n",
       "      <td>0.0</td>\n",
       "      <td>월드비전6k</td>\n",
       "    </tr>\n",
       "    <tr>\n",
       "      <th>1</th>\n",
       "      <td>2021-03-21</td>\n",
       "      <td>2021-04-20</td>\n",
       "      <td>0.0</td>\n",
       "      <td>월드비전6k</td>\n",
       "    </tr>\n",
       "    <tr>\n",
       "      <th>2</th>\n",
       "      <td>2021-03-22</td>\n",
       "      <td>2021-04-20</td>\n",
       "      <td>0.0</td>\n",
       "      <td>월드비전6k</td>\n",
       "    </tr>\n",
       "    <tr>\n",
       "      <th>3</th>\n",
       "      <td>2021-03-23</td>\n",
       "      <td>2021-04-20</td>\n",
       "      <td>0.0</td>\n",
       "      <td>월드비전6k</td>\n",
       "    </tr>\n",
       "    <tr>\n",
       "      <th>4</th>\n",
       "      <td>2021-03-24</td>\n",
       "      <td>2021-04-20</td>\n",
       "      <td>0.0</td>\n",
       "      <td>월드비전6k</td>\n",
       "    </tr>\n",
       "  </tbody>\n",
       "</table>\n",
       "</div>"
      ],
      "text/plain": [
       "           날짜        수집날짜  쿼리수     키워드\n",
       "0  2021-03-20  2021-04-20  0.0  월드비전6k\n",
       "1  2021-03-21  2021-04-20  0.0  월드비전6k\n",
       "2  2021-03-22  2021-04-20  0.0  월드비전6k\n",
       "3  2021-03-23  2021-04-20  0.0  월드비전6k\n",
       "4  2021-03-24  2021-04-20  0.0  월드비전6k"
      ]
     },
     "execution_count": 5,
     "metadata": {},
     "output_type": "execute_result"
    }
   ],
   "source": [
    "test.head()"
   ]
  },
  {
   "cell_type": "code",
   "execution_count": 6,
   "metadata": {},
   "outputs": [],
   "source": [
    "lis = test['키워드'].values.tolist()"
   ]
  },
  {
   "cell_type": "code",
   "execution_count": 7,
   "metadata": {},
   "outputs": [],
   "source": [
    "keyword_list=[]\n",
    "for i in lis: \n",
    "    if i not in keyword_list:\n",
    "        keyword_list.append(i)"
   ]
  },
  {
   "cell_type": "code",
   "execution_count": 8,
   "metadata": {},
   "outputs": [
    {
     "data": {
      "text/plain": [
       "339"
      ]
     },
     "execution_count": 8,
     "metadata": {},
     "output_type": "execute_result"
    }
   ],
   "source": [
    "len(keyword_list)"
   ]
  },
  {
   "cell_type": "code",
   "execution_count": 9,
   "metadata": {},
   "outputs": [],
   "source": [
    "toda = datetime.now()\n",
    "time_month = toda - relativedelta(months=1)\n",
    "time_month = time_month.strftime('%Y-%m-%d')\n",
    "time_month= str(time_month)\n",
    "\n",
    "\n",
    "yesterday = toda - relativedelta(days=1)\n",
    "yesterday = yesterday.strftime('%Y-%m-%d')\n",
    "yesterday = str(yesterday)\n",
    "\n",
    "\n",
    "\n",
    "today = str(datetime.now().date())"
   ]
  },
  {
   "cell_type": "code",
   "execution_count": 10,
   "metadata": {},
   "outputs": [],
   "source": [
    "dt_index = pd.date_range(start=time_month, end = yesterday)\n",
    "\n",
    "\n",
    "date = pd.DataFrame(data=dt_index, columns=['날짜'])\n",
    "    \n",
    "    "
   ]
  },
  {
   "cell_type": "code",
   "execution_count": 11,
   "metadata": {},
   "outputs": [
    {
     "data": {
      "application/vnd.jupyter.widget-view+json": {
       "model_id": "2971e25a471d4a0e939b60065a84da05",
       "version_major": 2,
       "version_minor": 0
      },
      "text/plain": [
       "HBox(children=(HTML(value=''), FloatProgress(value=0.0, max=339.0), HTML(value='')))"
      ]
     },
     "metadata": {},
     "output_type": "display_data"
    },
    {
     "name": "stdout",
     "output_type": "stream",
     "text": [
      "\n"
     ]
    }
   ],
   "source": [
    "lis=[]\n",
    "for i in tqdm(keyword_list) :\n",
    "    test['날짜타입']=test['날짜'].apply(lambda x: datetime.strptime(x,\"%Y-%m-%d\"))\n",
    "    tmp = test[test['키워드'] == i]\n",
    "    \n",
    "    \n",
    "    date_count = tmp['날짜'].tolist()\n",
    "    date_count = (len(date_count)-1)\n",
    "    \n",
    "    for j in range(date_count) : \n",
    "        \n",
    "        cnt = (tmp['날짜타입'].tolist()[j+1] - tmp['날짜타입'].tolist()[j]) - relativedelta(days=1)\n",
    "        \n",
    "        if str(cnt) == 'relativedelta()' :\n",
    "            pass\n",
    "        else:\n",
    "            lis.append(i)\n",
    "    \n",
    "    \n",
    "    \n",
    "    \n",
    "    \n",
    "        \n",
    "\n",
    "    "
   ]
  },
  {
   "cell_type": "code",
   "execution_count": 13,
   "metadata": {
    "scrolled": false
   },
   "outputs": [
    {
     "data": {
      "text/plain": [
       "[]"
      ]
     },
     "execution_count": 13,
     "metadata": {},
     "output_type": "execute_result"
    }
   ],
   "source": [
    "# 4월 20일  \n",
    "#lis"
   ]
  },
  {
   "cell_type": "code",
   "execution_count": null,
   "metadata": {},
   "outputs": [],
   "source": [
    "#4월 21일 ->  어제 오류키워드에 더해서 나오는지 확인해보기\n",
    "lis"
   ]
  },
  {
   "cell_type": "code",
   "execution_count": 17,
   "metadata": {},
   "outputs": [],
   "source": [
    "#keyword_list = []\n",
    "#for i in lis: \n",
    "#    if i not in keyword_list : \n",
    "#        keyword_list.append(i)"
   ]
  },
  {
   "cell_type": "code",
   "execution_count": 19,
   "metadata": {},
   "outputs": [
    {
     "data": {
      "text/plain": [
       "['월드비전하이킹',\n",
       " '단기계약직',\n",
       " '굿네이버스토끼와거북이',\n",
       " '정기기부',\n",
       " '루이비통실버팔찌',\n",
       " '의식팔찌',\n",
       " '단기계약직실업급여',\n",
       " '3개월실업급여',\n",
       " '3개월계약직실업급여',\n",
       " '3개월근무실업급여',\n",
       " '1년계약직실업급여',\n",
       " '실업급여한달',\n",
       " '한달계약직실업급여',\n",
       " '마리몬드반지',\n",
       " '여름모자',\n",
       " 'ccnmade',\n",
       " '뷔실팔찌',\n",
       " '방탄뷔팔찌',\n",
       " '최창남',\n",
       " '뷔비즈팔찌',\n",
       " '이에르로르',\n",
       " '이에르로르팔찌',\n",
       " 'bts팔찌',\n",
       " '토끼와거북이',\n",
       " '남자불가리목걸이']"
      ]
     },
     "execution_count": 19,
     "metadata": {},
     "output_type": "execute_result"
    }
   ],
   "source": [
    "#keyword_list"
   ]
  },
  {
   "cell_type": "code",
   "execution_count": 14,
   "metadata": {},
   "outputs": [
    {
     "data": {
      "text/plain": [
       "0"
      ]
     },
     "execution_count": 14,
     "metadata": {},
     "output_type": "execute_result"
    }
   ],
   "source": [
    "len(lis)"
   ]
  },
  {
   "cell_type": "code",
   "execution_count": null,
   "metadata": {},
   "outputs": [],
   "source": [
    "#4월 20일 ->추가되는지 확인하기 "
   ]
  },
  {
   "cell_type": "markdown",
   "metadata": {},
   "source": [
    "# 오류 키워드 "
   ]
  },
  {
   "cell_type": "markdown",
   "metadata": {},
   "source": [
    "### 네이버 광고 API"
   ]
  },
  {
   "cell_type": "code",
   "execution_count": 15,
   "metadata": {},
   "outputs": [],
   "source": [
    "BASE_URL = 'https://api.naver.com'\n",
    "API_KEY = '********'\n",
    "SECRET_KEY = '******'\n",
    "CUSTOMER_ID = '*****'"
   ]
  },
  {
   "cell_type": "code",
   "execution_count": 16,
   "metadata": {},
   "outputs": [],
   "source": [
    "rel = RelKwdStat(BASE_URL, API_KEY, SECRET_KEY, CUSTOMER_ID)"
   ]
  },
  {
   "cell_type": "code",
   "execution_count": 17,
   "metadata": {},
   "outputs": [],
   "source": [
    "def search_keyword(searchword):\n",
    "    \n",
    "\n",
    "    kwdDataList = rel.get_rel_kwd_stat_list(siteId=None, biztpId=None, hintKeywords=searchword, event=None, month=None, showDetail='1')\n",
    "\n",
    "\n",
    "    kwd_result = (kwdDataList[0].relKeyword, #키워드\n",
    "                 kwdDataList[0].monthlyPcQcCnt, #월간 검색수 (PC)\n",
    "                 kwdDataList[0].monthlyMobileQcCnt, # 월간 검색수 (Mobile)\n",
    "                 kwdDataList[0].monthlyPcQcCnt+kwdDataList[0].monthlyMobileQcCnt) # 월간 total \n",
    "\n",
    "    return(kwd_result[3])"
   ]
  },
  {
   "cell_type": "markdown",
   "metadata": {},
   "source": [
    "### 네이버 데이터랩 API"
   ]
  },
  {
   "cell_type": "code",
   "execution_count": 1,
   "metadata": {},
   "outputs": [],
   "source": [
    "client_id = \"****\" \n",
    "client_secret = \"***\""
   ]
  },
  {
   "cell_type": "code",
   "execution_count": 19,
   "metadata": {},
   "outputs": [],
   "source": [
    "dictionary_yester={}\n",
    "dictionary_now={}"
   ]
  },
  {
   "cell_type": "code",
   "execution_count": 20,
   "metadata": {},
   "outputs": [
    {
     "data": {
      "application/vnd.jupyter.widget-view+json": {
       "model_id": "46aac0db95754a1683e3afe2b33735a8",
       "version_major": 2,
       "version_minor": 0
      },
      "text/plain": [
       "HBox(children=(HTML(value=''), FloatProgress(value=1.0, bar_style='info', layout=Layout(width='20px'), max=1.0…"
      ]
     },
     "metadata": {},
     "output_type": "display_data"
    },
    {
     "name": "stdout",
     "output_type": "stream",
     "text": [
      "\n"
     ]
    }
   ],
   "source": [
    "for i in tqdm(lis):  \n",
    "    sleep(1)\n",
    "    try:\n",
    "        if type(search_keyword(i)) !=str : \n",
    "            searchword = i.replace(\" \",\"\")\n",
    "            a = search_keyword(searchword)\n",
    "\n",
    "\n",
    "            url = \"https://openapi.naver.com/v1/datalab/search\"\n",
    "            body = \"{\\\"startDate\\\":\\\"\"+time_month+\"\\\",\\\"endDate\\\":\\\"\"+today+\"\\\",\\\"timeUnit\\\":\\\"date\\\",\\\"keywordGroups\\\":[{\\\"groupName\\\":\\\"\"+i+\"\\\",\\\"keywords\\\":[\\\"\"+i+\"\\\"]}]}\";\n",
    "            requested = urllib.request.Request(url)\n",
    "            requested.add_header(\"X-Naver-Client-Id\", client_id)\n",
    "            requested.add_header(\"X-Naver-Client-Secret\", client_secret)\n",
    "            requested.add_header(\"Content-Type\", \"application/json\")\n",
    "            response = urllib.request.urlopen(requested, data=body.encode(\"utf-8\"))\n",
    "            rescode = response.getcode()\n",
    "\n",
    "            if(rescode==200):\n",
    "                response_body = response.read()\n",
    "                output_data = response_body.decode('utf-8')\n",
    "            else:\n",
    "                print('Error code:'+ rescode)\n",
    "                pass\n",
    "\n",
    "            result = json.loads(output_data)\n",
    "\n",
    "\n",
    "            date = [a['period'] for a in result['results'][0]['data']]\n",
    "\n",
    "\n",
    "            aa = pd.DataFrame({'date':date, \n",
    "                          i:[a['ratio'] for a in result['results'][0]['data']],\n",
    "                          })\n",
    "\n",
    "            # 일일 데이터 계산 \n",
    "\n",
    "\n",
    "            sleep(0.5)\n",
    "            total = aa[i].sum()\n",
    "\n",
    "\n",
    "            aa[i] = aa[i].apply(lambda x :((x / total)*float(a)))\n",
    "\n",
    "        else : \n",
    "            pass\n",
    "\n",
    "    except (TypeError, IndexError,KeyError,ValueError):\n",
    "        print(\" 타입 or 인덱스 에러,Value 에러:\",i)\n",
    "        error.append(i)\n",
    "        pass\n",
    "\n",
    "\n",
    "    except HTTPError:\n",
    "        print('http 에러:', i )\n",
    "        error.append(i)\n",
    "        pass\n",
    "\n",
    "        #여기부터 새로코딩함 \n",
    "    try: \n",
    "        if type(search_keyword(i)) !=str : \n",
    "            searchword = i.replace(\" \",\"\")\n",
    "            a = search_keyword(searchword)        \n",
    "\n",
    "            dt_index = pd.date_range(start=time_month, end= yesterday)\n",
    "            dt_list = dt_index.strftime(\"%Y-%m-%d\").tolist()\n",
    "\n",
    "            date = pd.DataFrame(data=dt_list, columns=['날짜'])\n",
    "\n",
    "            spred = pd.merge(date,aa,left_on='날짜',right_on='date',how='outer')\n",
    "            spred.drop(['date'],inplace=True, axis=1)\n",
    "\n",
    "            spred.replace(np.nan,0,inplace=True)\n",
    "\n",
    "\n",
    "            a=[] \n",
    "\n",
    "            for j in range(len(spred)) : \n",
    "                a.append(today)\n",
    "\n",
    "\n",
    "            spred['수집날짜'] = a\n",
    "\n",
    "            spred = spred[['날짜','수집날짜',i]]\n",
    "\n",
    "            if i in dictionary_yester:\n",
    "\n",
    "                pass\n",
    "\n",
    "            else : \n",
    "                dictionary_yester[i]=[]\n",
    "\n",
    "\n",
    "\n",
    "            dictionary_now[i]=spred\n",
    "\n",
    "        else:\n",
    "            pass\n",
    "\n",
    "    except (TypeError, IndexError,KeyError,ValueError):\n",
    "\n",
    "        pass\n",
    "\n",
    "    sleep(0.5)\n",
    "    try :\n",
    "        if type(search_keyword(i)) !=str : \n",
    "            searchword = i.replace(\" \",\"\")\n",
    "            a = search_keyword(searchword)        \n",
    "\n",
    "            if dictionary_yester[i]==[]:\n",
    "                dictionary_yester[i] = dictionary_now[i]\n",
    "               # for k in range(3):\n",
    "                #    sleep(1)\n",
    "                 #   gc2.append_row(dictionary_now[i].iloc[-1-k,:].values.tolist()+[i])\n",
    "\n",
    "\n",
    "            else : \n",
    "                pass \n",
    "        else:\n",
    "            pass\n",
    "\n",
    "\n",
    "    except (TypeError, IndexError,KeyError):\n",
    "          pass\n",
    "\n",
    "\n",
    "    except ValueError:\n",
    "\n",
    "\n",
    "            yester_df= dictionary_yester[i]\n",
    "            today_df = dictionary_now[i]\n",
    "\n",
    "\n",
    "            yester_df.set_index('날짜',inplace=True)\n",
    "\n",
    "            today_df.set_index('날짜',inplace=True)\n",
    "\n",
    "            yester_df.update(today_df)\n",
    "\n",
    "\n",
    "            tmpt = today_df.iloc[-1,:]\n",
    "\n",
    "            yester_df = yester_df.append(tmpt)\n",
    "\n",
    "            yester_df.reset_index(inplace=True)\n",
    "            today_df.reset_index(inplace=True)\n",
    "\n",
    "            #dictionary_yester[i] = yester_df\n",
    "\n",
    "        ## 구글 API로 데이터 올리기\n",
    "            # 2주간의 데이터만 구글 스프레드 시트에 올리겠다.\n",
    "\n",
    "          #  for k in range(3):\n",
    "           #     sleep(1)\n",
    "            #    gc2.append_row(yester_df.iloc[-1-k,:].values.tolist()+[i])\n",
    "\n",
    "\n",
    "\n",
    "\n",
    "            dictionary_yester[i] = yester_df\n",
    "\n",
    "\n",
    "    except :\n",
    "        print('API 에러',i)\n",
    "        error.append(i)\n",
    "\n",
    "\n",
    "\n",
    "    sleep(3)\n"
   ]
  },
  {
   "cell_type": "code",
   "execution_count": 21,
   "metadata": {
    "scrolled": true
   },
   "outputs": [
    {
     "data": {
      "text/plain": [
       "[]"
      ]
     },
     "execution_count": 21,
     "metadata": {},
     "output_type": "execute_result"
    }
   ],
   "source": [
    "lis"
   ]
  },
  {
   "cell_type": "code",
   "execution_count": 22,
   "metadata": {},
   "outputs": [
    {
     "ename": "KeyError",
     "evalue": "'롯데유니세프'",
     "output_type": "error",
     "traceback": [
      "\u001b[1;31m---------------------------------------------------------------------------\u001b[0m",
      "\u001b[1;31mKeyError\u001b[0m                                  Traceback (most recent call last)",
      "\u001b[1;32m<ipython-input-22-7b7c6e70ab09>\u001b[0m in \u001b[0;36m<module>\u001b[1;34m\u001b[0m\n\u001b[1;32m----> 1\u001b[1;33m \u001b[0mdictionary_now\u001b[0m\u001b[1;33m[\u001b[0m\u001b[1;34m'롯데유니세프'\u001b[0m\u001b[1;33m]\u001b[0m\u001b[1;33m\u001b[0m\u001b[1;33m\u001b[0m\u001b[0m\n\u001b[0m",
      "\u001b[1;31mKeyError\u001b[0m: '롯데유니세프'"
     ]
    }
   ],
   "source": [
    "dictionary_now['롯데유니세프']"
   ]
  },
  {
   "cell_type": "code",
   "execution_count": null,
   "metadata": {},
   "outputs": [],
   "source": []
  }
 ],
 "metadata": {
  "kernelspec": {
   "display_name": "Python 3",
   "language": "python",
   "name": "python3"
  },
  "language_info": {
   "codemirror_mode": {
    "name": "ipython",
    "version": 3
   },
   "file_extension": ".py",
   "mimetype": "text/x-python",
   "name": "python",
   "nbconvert_exporter": "python",
   "pygments_lexer": "ipython3",
   "version": "3.8.5"
  }
 },
 "nbformat": 4,
 "nbformat_minor": 4
}
